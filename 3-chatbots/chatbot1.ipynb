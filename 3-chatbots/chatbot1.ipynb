{
 "cells": [
  {
   "cell_type": "code",
   "execution_count": 6,
   "metadata": {},
   "outputs": [],
   "source": [
    "import os\n",
    "from dotenv import load_dotenv\n",
    "load_dotenv()\n",
    "\n",
    "os.environ[\"GROQ_API_KEY\"]=os.getenv(\"GROQ_API_KEY\")\n",
    "\n"
   ]
  },
  {
   "cell_type": "code",
   "execution_count": 30,
   "metadata": {},
   "outputs": [],
   "source": [
    "from langchain_groq import ChatGroq\n",
    "\n",
    "model = ChatGroq(model=\"Gemma2-9b-It\")"
   ]
  },
  {
   "cell_type": "code",
   "execution_count": 33,
   "metadata": {},
   "outputs": [
    {
     "data": {
      "text/plain": [
       "AIMessage(content=\"As a large language model, I have no memory of past conversations and do not know your name. If you'd like to tell me your name, I'd be happy to know! 😊  \\n\\n\", additional_kwargs={}, response_metadata={'token_usage': {'completion_tokens': 45, 'prompt_tokens': 15, 'total_tokens': 60, 'completion_time': 0.081818182, 'prompt_time': 8.1339e-05, 'queue_time': 0.01299498, 'total_time': 0.081899521}, 'model_name': 'Gemma2-9b-It', 'system_fingerprint': 'fp_10c08bf97d', 'finish_reason': 'stop', 'logprobs': None}, id='run-9b4ae7ed-e156-4786-b4bc-9e3d4662e744-0', usage_metadata={'input_tokens': 15, 'output_tokens': 45, 'total_tokens': 60})"
      ]
     },
     "execution_count": 33,
     "metadata": {},
     "output_type": "execute_result"
    }
   ],
   "source": [
    "model.invoke(\"What's my name?\")"
   ]
  },
  {
   "cell_type": "code",
   "execution_count": 39,
   "metadata": {},
   "outputs": [
    {
     "data": {
      "text/plain": [
       "AIMessage(content=\"Hello Sreevalli! It's nice to meet you.  \\n\\nWhat can I help you with today?  Are you working on a particular problem, or do you have a general question about math? \\n\\nDon't be shy, I'm here to help you learn and understand! 😊 \\n\\n\", additional_kwargs={}, response_metadata={'token_usage': {'completion_tokens': 68, 'prompt_tokens': 30, 'total_tokens': 98, 'completion_time': 0.123636364, 'prompt_time': 0.000161609, 'queue_time': 0.01404281, 'total_time': 0.123797973}, 'model_name': 'Gemma2-9b-It', 'system_fingerprint': 'fp_10c08bf97d', 'finish_reason': 'stop', 'logprobs': None}, id='run-b5fb730e-73bf-4ded-b12d-8e127e731e6a-0', usage_metadata={'input_tokens': 30, 'output_tokens': 68, 'total_tokens': 98})"
      ]
     },
     "execution_count": 39,
     "metadata": {},
     "output_type": "execute_result"
    }
   ],
   "source": [
    "from langchain_core.messages import HumanMessage,SystemMessage,AIMessage\n",
    "\n",
    "model.invoke([HumanMessage(content=\"Hi,My name is Sreevalli and I'm a student\"),SystemMessage(content=\"Assume you are a Maths Teacher\")])"
   ]
  },
  {
   "cell_type": "code",
   "execution_count": 9,
   "metadata": {},
   "outputs": [
    {
     "data": {
      "text/plain": [
       "AIMessage(content=\"You are Sreevalli, and you are an AI Engineer! 😊  \\n\\nIs there anything else you'd like to know about yourself or discuss?  I'm here to help.  \\n\", additional_kwargs={}, response_metadata={'token_usage': {'completion_tokens': 44, 'prompt_tokens': 96, 'total_tokens': 140, 'completion_time': 0.08, 'prompt_time': 0.00249585, 'queue_time': 0.011598867999999998, 'total_time': 0.08249585}, 'model_name': 'Gemma2-9b-It', 'system_fingerprint': 'fp_10c08bf97d', 'finish_reason': 'stop', 'logprobs': None}, id='run-e3d75360-5135-4853-bf23-9e7abc9b9b8e-0', usage_metadata={'input_tokens': 96, 'output_tokens': 44, 'total_tokens': 140})"
      ]
     },
     "execution_count": 9,
     "metadata": {},
     "output_type": "execute_result"
    }
   ],
   "source": [
    "from langchain_core.messages import AIMessage\n",
    "\n",
    "model.invoke([\n",
    "\n",
    "    HumanMessage(content=\"Hi,My name is Sreevalli and I'm a AI Engineer\"),\n",
    "    AIMessage(content=\"Hi Sreevalli! \\n\\nWelcome! It's great to meet another AI Engineer.  \\n\\nWhat kind of AI work are you interested in? \\n\\nI'm always eager to learn about what others are working on in the field.\"),\n",
    "    HumanMessage(content=\"Hey Whats my name and what do I do?\"),\n",
    "\n",
    "])"
   ]
  },
  {
   "cell_type": "code",
   "execution_count": 40,
   "metadata": {},
   "outputs": [],
   "source": [
    "from langchain_community.chat_message_histories import ChatMessageHistory\n",
    "from langchain_core.chat_history import BaseChatMessageHistory\n",
    "from langchain_core.runnables.history import RunnableWithMessageHistory"
   ]
  },
  {
   "cell_type": "code",
   "execution_count": 62,
   "metadata": {},
   "outputs": [],
   "source": [
    "store={}\n",
    "def get_session_history(session_id):\n",
    "    if session_id not in store:\n",
    "        store[session_id]=ChatMessageHistory()\n",
    "\n",
    "    return store[session_id]\n",
    "\n",
    "with_message_history=RunnableWithMessageHistory(model,get_session_history)\n"
   ]
  },
  {
   "cell_type": "code",
   "execution_count": 63,
   "metadata": {},
   "outputs": [],
   "source": [
    "config = {\"configurable\":{\"session_id\":\"chart1\"}}"
   ]
  },
  {
   "cell_type": "code",
   "execution_count": 64,
   "metadata": {},
   "outputs": [
    {
     "data": {
      "text/plain": [
       "AIMessage(content=\"Hi Sreevalli, it's nice to meet you! \\n\\nIt's great to know you're an AI Engineer. What kind of projects are you working on these days? \\n\\nI'm always interested in learning more about the exciting work being done in the field of AI.  \\n\\n\", additional_kwargs={}, response_metadata={'token_usage': {'completion_tokens': 67, 'prompt_tokens': 25, 'total_tokens': 92, 'completion_time': 0.121818182, 'prompt_time': 0.00015822, 'queue_time': 0.014046919, 'total_time': 0.121976402}, 'model_name': 'Gemma2-9b-It', 'system_fingerprint': 'fp_10c08bf97d', 'finish_reason': 'stop', 'logprobs': None}, id='run-4b0839b0-49f9-4cce-bf94-49bb80c3ec5e-0', usage_metadata={'input_tokens': 25, 'output_tokens': 67, 'total_tokens': 92})"
      ]
     },
     "execution_count": 64,
     "metadata": {},
     "output_type": "execute_result"
    }
   ],
   "source": [
    "with_message_history.invoke(\n",
    "    [HumanMessage(content=\"Hi,My name is Sreevalli and I'm a AI Engineer\")],\n",
    "    config=config\n",
    "\n",
    ")"
   ]
  },
  {
   "cell_type": "code",
   "execution_count": 44,
   "metadata": {},
   "outputs": [],
   "source": [
    "response = with_message_history.invoke(\n",
    "    [HumanMessage(content=\"Hi,My name is Sreevalli and I'm a AI Engineer\")],\n",
    "    config=config\n",
    "\n",
    ")"
   ]
  },
  {
   "cell_type": "code",
   "execution_count": 45,
   "metadata": {},
   "outputs": [
    {
     "data": {
      "text/plain": [
       "\"Hello Sreevalli! \\n\\nIt's great to meet you.  Being an AI Engineer is such a fascinating field!  \\n\\nWhat kind of projects are you working on these days?  Anything you're particularly excited about?\\n\""
      ]
     },
     "execution_count": 45,
     "metadata": {},
     "output_type": "execute_result"
    }
   ],
   "source": [
    "response.content"
   ]
  },
  {
   "cell_type": "code",
   "execution_count": 18,
   "metadata": {},
   "outputs": [
    {
     "data": {
      "text/plain": [
       "AIMessage(content='Your name is Sreevalli.  You told me at the beginning of our conversation! 😊  \\n\\n\\n', additional_kwargs={}, response_metadata={'token_usage': {'completion_tokens': 24, 'prompt_tokens': 171, 'total_tokens': 195, 'completion_time': 0.043636364, 'prompt_time': 0.006851811, 'queue_time': 0.007605488999999999, 'total_time': 0.050488175}, 'model_name': 'Gemma2-9b-It', 'system_fingerprint': 'fp_10c08bf97d', 'finish_reason': 'stop', 'logprobs': None}, id='run-cfb4a379-5be0-4255-8fde-56feb5da8a6e-0', usage_metadata={'input_tokens': 171, 'output_tokens': 24, 'total_tokens': 195})"
      ]
     },
     "execution_count": 18,
     "metadata": {},
     "output_type": "execute_result"
    }
   ],
   "source": [
    "with_message_history.invoke(\n",
    "    [HumanMessage(content=\"What is my name\")],\n",
    "    config=config\n",
    "\n",
    ")"
   ]
  },
  {
   "cell_type": "code",
   "execution_count": 19,
   "metadata": {},
   "outputs": [
    {
     "data": {
      "text/plain": [
       "AIMessage(content=\"As an AI, I have no memory of past conversations and do not know your name.\\n\\nIf you'd like to tell me your name, I'd be happy to know! 😊\\n\", additional_kwargs={}, response_metadata={'token_usage': {'completion_tokens': 42, 'prompt_tokens': 13, 'total_tokens': 55, 'completion_time': 0.076363636, 'prompt_time': 8.9099e-05, 'queue_time': 0.013107401, 'total_time': 0.076452735}, 'model_name': 'Gemma2-9b-It', 'system_fingerprint': 'fp_10c08bf97d', 'finish_reason': 'stop', 'logprobs': None}, id='run-46fe0268-89c8-42df-8be8-d839f2a59a8c-0', usage_metadata={'input_tokens': 13, 'output_tokens': 42, 'total_tokens': 55})"
      ]
     },
     "execution_count": 19,
     "metadata": {},
     "output_type": "execute_result"
    }
   ],
   "source": [
    "config1 = {\"configurable\":{\"session_id\":\"chat1\"}}\n",
    "with_message_history.invoke(\n",
    "    [HumanMessage(content=\"What is my name\")],\n",
    "    config=config1\n",
    "\n",
    ")\n"
   ]
  },
  {
   "cell_type": "code",
   "execution_count": 20,
   "metadata": {},
   "outputs": [
    {
     "data": {
      "text/plain": [
       "AIMessage(content=\"Hello Sreevalli! It's nice to meet you. 😊\\n\\nIs there anything I can help you with today?  \\n\", additional_kwargs={}, response_metadata={'token_usage': {'completion_tokens': 30, 'prompt_tokens': 70, 'total_tokens': 100, 'completion_time': 0.054545455, 'prompt_time': 0.002242966, 'queue_time': 0.012091603, 'total_time': 0.056788421}, 'model_name': 'Gemma2-9b-It', 'system_fingerprint': 'fp_10c08bf97d', 'finish_reason': 'stop', 'logprobs': None}, id='run-eef9a13b-ca8c-4844-b399-e7fa5e4fbcd9-0', usage_metadata={'input_tokens': 70, 'output_tokens': 30, 'total_tokens': 100})"
      ]
     },
     "execution_count": 20,
     "metadata": {},
     "output_type": "execute_result"
    }
   ],
   "source": [
    "with_message_history.invoke(\n",
    "    [HumanMessage(content=\"My Name is sreevalli\")],\n",
    "    config=config1\n",
    "\n",
    ")"
   ]
  },
  {
   "cell_type": "code",
   "execution_count": 21,
   "metadata": {},
   "outputs": [
    {
     "data": {
      "text/plain": [
       "AIMessage(content='Your name is Sreevalli! 😊 \\n\\nI remember that you told me earlier.  \\n', additional_kwargs={}, response_metadata={'token_usage': {'completion_tokens': 23, 'prompt_tokens': 112, 'total_tokens': 135, 'completion_time': 0.041818182, 'prompt_time': 0.004192622, 'queue_time': 0.010224148, 'total_time': 0.046010804}, 'model_name': 'Gemma2-9b-It', 'system_fingerprint': 'fp_10c08bf97d', 'finish_reason': 'stop', 'logprobs': None}, id='run-4085c367-50dd-4c0b-9bd4-921adbd59b5b-0', usage_metadata={'input_tokens': 112, 'output_tokens': 23, 'total_tokens': 135})"
      ]
     },
     "execution_count": 21,
     "metadata": {},
     "output_type": "execute_result"
    }
   ],
   "source": [
    "with_message_history.invoke(\n",
    "    [HumanMessage(content=\"What is my name\")],\n",
    "    config=config1\n",
    "\n",
    ")"
   ]
  },
  {
   "cell_type": "code",
   "execution_count": 23,
   "metadata": {},
   "outputs": [],
   "source": [
    "from langchain_core.prompts import ChatPromptTemplate,MessagesPlaceholder\n",
    "prompt=ChatPromptTemplate.from_messages(\n",
    "    [\n",
    "        (\"system\",\"You are a helpful assistant.Answer all the questions to the nest of your ability\"),\n",
    "        MessagesPlaceholder(variable_name=\"messages\")\n",
    "\n",
    "    ]\n",
    ")\n",
    "chain=prompt|model"
   ]
  },
  {
   "cell_type": "code",
   "execution_count": 24,
   "metadata": {},
   "outputs": [
    {
     "data": {
      "text/plain": [
       "AIMessage(content='Hi Sreevalli! \\n\\nIt\\'s nice to meet you. 😊\\n\\nAnd yes,  \"Sree\" is part of your name, Sreevalli! \\n\\n', additional_kwargs={}, response_metadata={'token_usage': {'completion_tokens': 42, 'prompt_tokens': 33, 'total_tokens': 75, 'completion_time': 0.076363636, 'prompt_time': 0.000336229, 'queue_time': 0.014075881, 'total_time': 0.076699865}, 'model_name': 'Gemma2-9b-It', 'system_fingerprint': 'fp_10c08bf97d', 'finish_reason': 'stop', 'logprobs': None}, id='run-a804ce3c-588d-4f74-924d-717efb27a946-0', usage_metadata={'input_tokens': 33, 'output_tokens': 42, 'total_tokens': 75})"
      ]
     },
     "execution_count": 24,
     "metadata": {},
     "output_type": "execute_result"
    }
   ],
   "source": [
    "chain.invoke({\"messages\":[HumanMessage(content=\"Hi My name is Sreevalli\")]})"
   ]
  },
  {
   "cell_type": "code",
   "execution_count": 25,
   "metadata": {},
   "outputs": [],
   "source": [
    "with_message_history=RunnableWithMessageHistory(chain,get_session_history)"
   ]
  },
  {
   "cell_type": "code",
   "execution_count": 26,
   "metadata": {},
   "outputs": [],
   "source": [
    "config = {\"configurable\":{\"session_id\":\"chat3\"}}\n",
    "response = with_message_history.invoke(\n",
    "    [HumanMessage(content=\"Hi My name is Sreevalli\")],\n",
    "    config=config\n",
    ")"
   ]
  },
  {
   "cell_type": "code",
   "execution_count": 27,
   "metadata": {},
   "outputs": [
    {
     "data": {
      "text/plain": [
       "AIMessage(content='Hello Sreevalli!  \\n\\nIt\\'s nice to meet you. 😊 \\n\\nAnd yes, you are correct! \"Sree\" is likely a shortened version of your name, Sreevalli. \\n\\nIs there anything I can help you with today?  \\n\\n', additional_kwargs={}, response_metadata={'token_usage': {'completion_tokens': 61, 'prompt_tokens': 33, 'total_tokens': 94, 'completion_time': 0.110909091, 'prompt_time': 0.001845375, 'queue_time': 0.012554395, 'total_time': 0.112754466}, 'model_name': 'Gemma2-9b-It', 'system_fingerprint': 'fp_10c08bf97d', 'finish_reason': 'stop', 'logprobs': None}, id='run-13b83d69-06ea-42c8-8af8-893d8aa046e5-0', usage_metadata={'input_tokens': 33, 'output_tokens': 61, 'total_tokens': 94})"
      ]
     },
     "execution_count": 27,
     "metadata": {},
     "output_type": "execute_result"
    }
   ],
   "source": [
    "response"
   ]
  },
  {
   "cell_type": "code",
   "execution_count": 49,
   "metadata": {},
   "outputs": [],
   "source": [
    "from langchain_core.prompts import ChatPromptTemplate\n",
    "\n",
    "prompt = ChatPromptTemplate(\n",
    "    [\n",
    "        (\"system\",\"You are a helpful assistant. Answer all question in {language}\"),\n",
    "        MessagesPlaceholder(variable_name=\"messages\")\n",
    "    ]\n",
    ")"
   ]
  },
  {
   "cell_type": "code",
   "execution_count": 50,
   "metadata": {},
   "outputs": [],
   "source": [
    "chain = prompt | model"
   ]
  },
  {
   "cell_type": "code",
   "execution_count": 51,
   "metadata": {},
   "outputs": [
    {
     "data": {
      "text/plain": [
       "AIMessage(content='మీకు సాయుకారం చేయడానికి తప్పకుండా సిద్ధంగా ఉన్నాను, Sreevalli. ఏమి అడుగువా? 😊 \\n', additional_kwargs={}, response_metadata={'token_usage': {'completion_tokens': 44, 'prompt_tokens': 28, 'total_tokens': 72, 'completion_time': 0.08, 'prompt_time': 0.000403848, 'queue_time': 0.013770431999999999, 'total_time': 0.080403848}, 'model_name': 'Gemma2-9b-It', 'system_fingerprint': 'fp_10c08bf97d', 'finish_reason': 'stop', 'logprobs': None}, id='run-76d18596-508e-4a1b-8bac-cc8329414fc5-0', usage_metadata={'input_tokens': 28, 'output_tokens': 44, 'total_tokens': 72})"
      ]
     },
     "execution_count": 51,
     "metadata": {},
     "output_type": "execute_result"
    }
   ],
   "source": [
    "chain.invoke({\"messages\":[HumanMessage(content=\"Hi My name is Sreevalli\")],\"language\":\"Telugu\"})"
   ]
  },
  {
   "cell_type": "code",
   "execution_count": 54,
   "metadata": {},
   "outputs": [],
   "source": [
    "response = chain.invoke({\"messages\":[HumanMessage(content=\"Hi My name is Sreevalli\")],\"language\":\"Telugu\"})"
   ]
  },
  {
   "cell_type": "code",
   "execution_count": 55,
   "metadata": {},
   "outputs": [
    {
     "data": {
      "text/plain": [
       "'నమస్కారం, Sreevalli! 😊 \\n\\nనాకు మీకు సహాయం చేయడం వల్ల ఆనందం ఉంది. ఏమి అడుగుతున్నారు? \\n'"
      ]
     },
     "execution_count": 55,
     "metadata": {},
     "output_type": "execute_result"
    }
   ],
   "source": [
    "response.content"
   ]
  },
  {
   "cell_type": "code",
   "execution_count": 81,
   "metadata": {},
   "outputs": [
    {
     "data": {
      "text/plain": [
       "AIMessage(content='హాయ్ స్రీవల్లి! నేను మీకు సహాయకరిగా ఉంటాను. ఏవైనా ప్రశ్నలు ఉంటే అడిగి చూడండి. 😊\\n', additional_kwargs={}, response_metadata={'token_usage': {'completion_tokens': 51, 'prompt_tokens': 28, 'total_tokens': 79, 'completion_time': 0.092727273, 'prompt_time': 0.000207949, 'queue_time': 0.01357334, 'total_time': 0.092935222}, 'model_name': 'Gemma2-9b-It', 'system_fingerprint': 'fp_10c08bf97d', 'finish_reason': 'stop', 'logprobs': None}, id='run-ec55bae9-4d89-4c95-a8ad-bf2216452082-0', usage_metadata={'input_tokens': 28, 'output_tokens': 51, 'total_tokens': 79})"
      ]
     },
     "execution_count": 81,
     "metadata": {},
     "output_type": "execute_result"
    }
   ],
   "source": [
    "store={}\n",
    "\n",
    "def get_session_history(session_id):\n",
    "    if session_id not in store:\n",
    "        store[session_id]=ChatMessageHistory()\n",
    "    return store[session_id]\n",
    "\n",
    "with_message_history=RunnableWithMessageHistory(chain,get_session_history,input_messages_key=\"messages\")\n",
    "config={\"configurable\":{\"session_id\":\"chat1\"}}\n",
    "\n",
    "with_message_history.invoke({\"messages\":[HumanMessage(content=\"I'm Sreevalli\")],\"language\":\"telugu\"},config=config)"
   ]
  },
  {
   "cell_type": "code",
   "execution_count": 84,
   "metadata": {},
   "outputs": [
    {
     "data": {
      "text/plain": [
       "AIMessage(content='మీ పేరు స్రీవల్లి. 😊 \\n', additional_kwargs={}, response_metadata={'token_usage': {'completion_tokens': 16, 'prompt_tokens': 92, 'total_tokens': 108, 'completion_time': 0.029090909, 'prompt_time': 0.004763142, 'queue_time': 0.008696018, 'total_time': 0.033854051}, 'model_name': 'Gemma2-9b-It', 'system_fingerprint': 'fp_10c08bf97d', 'finish_reason': 'stop', 'logprobs': None}, id='run-2962b223-2c32-4de8-9fc0-5df665235cc0-0', usage_metadata={'input_tokens': 92, 'output_tokens': 16, 'total_tokens': 108})"
      ]
     },
     "execution_count": 84,
     "metadata": {},
     "output_type": "execute_result"
    }
   ],
   "source": [
    "with_message_history.invoke({\"messages\":[HumanMessage(content=\"What's my name\")],\"language\":\"telugu\"},config=config)"
   ]
  },
  {
   "cell_type": "code",
   "execution_count": 73,
   "metadata": {},
   "outputs": [
    {
     "data": {
      "text/plain": [
       "{'chat1': InMemoryChatMessageHistory(messages=[HumanMessage(content=\"Hi I'm Sreevalli\", additional_kwargs={}, response_metadata={}), AIMessage(content=\"Hello Sreevalli Sree! \\n\\nIt's nice to meet you. What can I do for you today? 😊  \\n\", additional_kwargs={}, response_metadata={'token_usage': {'completion_tokens': 31, 'prompt_tokens': 17, 'total_tokens': 48, 'completion_time': 0.056363636, 'prompt_time': 8.406e-05, 'queue_time': 0.013453218999999999, 'total_time': 0.056447696}, 'model_name': 'Gemma2-9b-It', 'system_fingerprint': 'fp_10c08bf97d', 'finish_reason': 'stop', 'logprobs': None}, id='run-7fb6f941-ff78-4592-a499-acc931ecdac7-0', usage_metadata={'input_tokens': 17, 'output_tokens': 31, 'total_tokens': 48}), HumanMessage(content=\"What's my name\", additional_kwargs={}, response_metadata={}), AIMessage(content='Your name is Sreevalli!  😊 \\n\\nI remember that you told me when you first introduced yourself.  \\n', additional_kwargs={}, response_metadata={'token_usage': {'completion_tokens': 28, 'prompt_tokens': 61, 'total_tokens': 89, 'completion_time': 0.05198263, 'prompt_time': 0.002064303, 'queue_time': 0.012819804, 'total_time': 0.054046933}, 'model_name': 'Gemma2-9b-It', 'system_fingerprint': 'fp_10c08bf97d', 'finish_reason': 'stop', 'logprobs': None}, id='run-71d80c07-3417-4459-aba0-4ceb536b54ae-0', usage_metadata={'input_tokens': 61, 'output_tokens': 28, 'total_tokens': 89})])}"
      ]
     },
     "execution_count": 73,
     "metadata": {},
     "output_type": "execute_result"
    }
   ],
   "source": [
    "store"
   ]
  },
  {
   "cell_type": "code",
   "execution_count": null,
   "metadata": {},
   "outputs": [],
   "source": []
  },
  {
   "cell_type": "code",
   "execution_count": null,
   "metadata": {},
   "outputs": [],
   "source": []
  }
 ],
 "metadata": {
  "kernelspec": {
   "display_name": "Python 3",
   "language": "python",
   "name": "python3"
  },
  "language_info": {
   "codemirror_mode": {
    "name": "ipython",
    "version": 3
   },
   "file_extension": ".py",
   "mimetype": "text/x-python",
   "name": "python",
   "nbconvert_exporter": "python",
   "pygments_lexer": "ipython3",
   "version": "3.10.0"
  }
 },
 "nbformat": 4,
 "nbformat_minor": 2
}
